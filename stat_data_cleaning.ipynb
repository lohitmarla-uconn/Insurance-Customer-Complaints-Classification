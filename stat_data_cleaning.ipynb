{
 "cells": [
  {
   "cell_type": "code",
   "execution_count": 81,
   "id": "71684f87",
   "metadata": {},
   "outputs": [],
   "source": [
    "import pandas as pd\n",
    "from datetime import datetime"
   ]
  },
  {
   "cell_type": "code",
   "execution_count": 82,
   "id": "5c3a52df",
   "metadata": {},
   "outputs": [
    {
     "name": "stdout",
     "output_type": "stream",
     "text": [
      "Number of rows: 247007\n",
      "Number of columns: 18\n"
     ]
    }
   ],
   "source": [
    "df = pd.read_csv('Insurance_All_Complaints_Messy_Final.csv')\n",
    "print(f'Number of rows: {df.shape[0]}')\n",
    "print(f'Number of columns: {df.shape[1]}')"
   ]
  },
  {
   "cell_type": "code",
   "execution_count": 83,
   "id": "38307c7b",
   "metadata": {},
   "outputs": [
    {
     "name": "stdout",
     "output_type": "stream",
     "text": [
      "Index(['unnamed__0', 'complaint_number', 'complaint_filed_against',\n",
      "       'complaint_filed_by', 'reason_complaint_filed', 'confirmed_complaint',\n",
      "       'how_resolved', 'received_date', 'closed_date', 'complaint_type',\n",
      "       'coverage_type', 'coverage_level', 'others_involved', 'respondent_id',\n",
      "       'respondent_role', 'respondent_type', 'complainant_type', 'keywords'],\n",
      "      dtype='object')\n"
     ]
    },
    {
     "name": "stderr",
     "output_type": "stream",
     "text": [
      "/var/folders/cm/2mf41lhd765fw4n76x4lfdrc0000gn/T/ipykernel_35918/1484730310.py:3: FutureWarning: The default value of regex will change from True to False in a future version.\n",
      "  df.columns = df.columns.str.strip().str.lower().str.replace(' ', '_').str.replace(r'[^\\w\\s]', '_')\n"
     ]
    }
   ],
   "source": [
    "#Cleaning column names \n",
    "\n",
    "df.columns = df.columns.str.strip().str.lower().str.replace(' ', '_').str.replace(r'[^\\w\\s]', '_')\n",
    "print(df.columns)\n"
   ]
  },
  {
   "cell_type": "code",
   "execution_count": 84,
   "id": "5b9846e1",
   "metadata": {},
   "outputs": [],
   "source": [
    "df['complaint_filed_against_explode'] = df['complaint_filed_against'].str.lower().str.strip().str.split(',')"
   ]
  },
  {
   "cell_type": "code",
   "execution_count": 85,
   "id": "1efb95e7",
   "metadata": {},
   "outputs": [],
   "source": [
    "df['complaint_filed_against_explode'] = df['complaint_filed_against_explode'].str.replace('&', 'and', regex=False)"
   ]
  },
  {
   "cell_type": "code",
   "execution_count": 86,
   "id": "f0945d4a",
   "metadata": {},
   "outputs": [
    {
     "name": "stdout",
     "output_type": "stream",
     "text": [
      "Number of rows: 3939133\n",
      "Number of columns: 23\n"
     ]
    }
   ],
   "source": [
    "\n",
    "df['how_resolved_list'] = df['how_resolved'].str.split(';')\n",
    "df = df.explode('how_resolved_list')\n",
    "df['others_involved_list'] = df['others_involved'].str.split(';')\n",
    "df = df.explode('others_involved_list')\n",
    "df['reason_complaint_filed_list'] = df['reason_complaint_filed'].str.split(';')\n",
    "df = df.explode('reason_complaint_filed_list')\n",
    "df['keywords_list_list'] = df['keywords'].str.split(';')\n",
    "df = df.explode('keywords_list_list')\n",
    "\n",
    "print(f'Number of rows: {df.shape[0]}')\n",
    "print(f'Number of columns: {df.shape[1]}')\n",
    "\n",
    "#Number of rows: 3940903\n",
    "#Number of columns: 21"
   ]
  },
  {
   "cell_type": "code",
   "execution_count": 87,
   "id": "bb549fd3",
   "metadata": {},
   "outputs": [
    {
     "name": "stdout",
     "output_type": "stream",
     "text": [
      "[nan '2012 NORTH TEXAS TORNADOES' \"ADJUSTER'S HANDLING\" 'CLAIM EVALUATION'\n",
      " 'DAMAGE DISPUTE' 'HAIL' 'SUPPLEMENTARY PAYMENT' 'CREDIT REPORT'\n",
      " 'FOUNDATION' 'WATER DAMAGE' 'DIMINISHED VALUE' 'BREED OF DOG'\n",
      " 'COMPARATIVE NEGLIGENCE' 'TOTAL LOSS' 'LOSS OF USE' 'EMERGENCY CARE'\n",
      " 'ROOF' 'ACV' 'BUNDLING' 'APPRAISAL' 'BURDEN OF PROOF' 'COVERAGE DISPUTE'\n",
      " 'POLICY EXCLUSION' 'REPLACEMENT VEHICLE' 'DEPRECIATION' 'PRESCRIPTION'\n",
      " 'RESCISSION' 'ADVERTISING' \"AGENT'S FEE\" 'UNDERWRITING CRITERIA'\n",
      " 'REPAIR CHOICE' 'EXAM UNDER OATH' 'CHIROPRACTIC' 'SENIOR CITIZEN'\n",
      " 'AUTISM SPECTRUM DISORDER' 'DEDUCTIBLE' 'NAMED DRIVER POLICY'\n",
      " 'UNCOOPERATIVE INSURED' 'BETTERMENT' 'MEDICAL SAVINGS ACCOUNT'\n",
      " 'AFTERMARKET PARTS' 'OVERHEAD AND PROFIT' 'FEDERAL HEALTH CARE REFORM'\n",
      " 'MULTIPLE INSUREDS' 'MOLD' 'DRIVER NOT COVERED' 'MEDICARE PART D'\n",
      " 'ALZHEIMER' 'EXPERIMENTAL' 'CANCER' 'SUBROGATION' 'ACQUIRED BRAIN INJURY'\n",
      " 'BILL OF RIGHTS - HO' 'SLAB' 'PHARMACY' 'MATERNITY' \"ENGINEER'S REPORT\"\n",
      " 'GRANDFATHERED HEALTH PLAN' 'WILDFIRES 2011' 'VIATICAL SETTLEMENT'\n",
      " 'TAXES' 'CHEMICAL DEPENDENCY' 'COLLEGE FUNDING' 'OPEN RECORDS REQUEST'\n",
      " 'BREAST RECONSTRUCTION' 'CHEMOTHERAPY' 'BILL OF RIGHTS - AUTO'\n",
      " 'REDLINING' 'DWC PBO HIGH' 'AIDS' '2015 SEVERE WEATHER' 'BONE MARROW'\n",
      " 'OBESITY' 'OUT-OF-NTWK PRVDR MEDIATION RQ' 'BREAST IMPLANTS'\n",
      " 'EARNEST MONEY' 'ALCOHOLISM' 'West Explosion 2013' 'CELL PHONE INSURANCE'\n",
      " 'EXTRATERRITORIAL' 'CREDIT CARD' 'NON-GRANDFATHERED HEALTH PLAN'\n",
      " 'REVERSE MORTGAGE' 'DWC PBO AVERAGE' 'TITLE EARNEST MONEY' 'TITLE AGENT'\n",
      " 'PHARMACY BENEFIT MANAGEMENT' 'EASEMENT' 'TITLE CLAIMS'\n",
      " 'TITLE CLOSING OR ESCROW FEES' 'TITLE LOST OR MISSING POLICY'\n",
      " 'TITLE FAILURE TO RECORD DOCS' 'TITLE REAL ESTATE COMMISSIONS'\n",
      " 'TITLE LIENS' 'TITLE PROPERTY TAXES' 'TITLE BOUNDARY DISPUTE' 'LIEN'\n",
      " 'TRUSTS AND TRUSTEES' 'DEED' 'SURVEYS' 'ENCROACHMENT' 'FORECLOSURE'\n",
      " 'SILENT PPO' 'DILIGENT EFFORT' 'HEIRS,  WILLS, AND ESTATES'\n",
      " 'ACCELERATED DEATH BENEFIT' 'AIR AMBULANCE' 'GROUND AMBULANCE'\n",
      " '2015 WINTER STORMS' 'Mental Illness' 'Network Adequacy'\n",
      " 'REAL ESTATE COMMISSIONS' 'HOMESTEAD' 'GR-Health Inquiry'\n",
      " 'PRESCRIPTION DISCOUNT CARD' 'MED PROVIDER/THIRDPARTY BILLER'\n",
      " '2017 NE Texas Tornado' 'HOLD HARMLESS' '2017 Hurricane Harvey'\n",
      " 'Dam Release' 'DWC PBO POOR' 'CLAWBACK' 'GR-Life Inquiry'\n",
      " 'GR-Agent License Inquiry' 'HEALTH CARE SHARING MINISTRIES' 'OPIOIDS'\n",
      " '2018 RGV Severe Weather' 'TELEMEDICINE' 'BUSINESS USE EXCLUSION'\n",
      " 'SB 189 Violation' 'GR-Home Owner Inquiry' '2019 Tropical Storm Imelda'\n",
      " '2019 Dallas Tornado' 'TRIP CANCELLATION' 'GR-Miscellaneous'\n",
      " 'BUSINESS INTERRUPTION' 'CORONAVIRUS' 'IDR-Consumer Balance Bill'\n",
      " 'LAB SERVICES' 'COVID19 TESTING' 'EVENT CANCELLATION' 'IDR-Emergency'\n",
      " 'IDR-Arbitration' '2020 Hurricane Hanna' '2020 Hurricane Laura'\n",
      " 'IDR-Mediation' 'PLUMBING' '2021 February Ice Storm' 'FOOD SPOILAGE'\n",
      " 'POWER FAILURE' 'DISCOUNT HEALTH CARE PROGRAM' 'LIMITED COVERAGE'\n",
      " '2021 Hurricane Nicholas' 'SUPPLY SHORTAGE' 'GR-Automotive Inquiry'\n",
      " '2022 March Severe Weather' 'PBM STEERING'\n",
      " 'GOLD CARDING-DENIED/RESCINDED' 'GOLD CARDING-NOT GRANTED' 'LOSS CONTROL']\n"
     ]
    }
   ],
   "source": [
    "\n",
    "df['keywords_list_list'] = df['keywords_list_list'].str.strip()\n",
    "print(df['keywords_list_list'].unique())\n"
   ]
  },
  {
   "cell_type": "code",
   "execution_count": 88,
   "id": "158614dd",
   "metadata": {},
   "outputs": [],
   "source": [
    "df['coverage_type'] = df['coverage_type'].str.replace('&', 'and', regex=False)\n",
    "df['coverage_type'] = df['coverage_type'].str.replace('[^\\w\\s]', '', regex=True)\n",
    "df['complaint_type'] = df['complaint_type'].str.replace('[^\\w\\s]', '', regex=True)\n",
    "df['coverage_level'] = df['coverage_level'].str.replace('[^\\w\\s]', '', regex=True)"
   ]
  },
  {
   "cell_type": "code",
   "execution_count": 89,
   "id": "ac56754a",
   "metadata": {},
   "outputs": [
    {
     "data": {
      "text/plain": [
       "array(['Life and Annuity', 'Accident and Health', 'Automobile',\n",
       "       'Homeowners', 'Miscellaneous', 'Fire Allied Lines and CMP',\n",
       "       'Liability'], dtype=object)"
      ]
     },
     "execution_count": 89,
     "metadata": {},
     "output_type": "execute_result"
    }
   ],
   "source": [
    "df['coverage_type'].unique()"
   ]
  },
  {
   "cell_type": "code",
   "execution_count": null,
   "metadata": {},
   "outputs": [],
   "source": [
    "\n"
   ]
  },
  {
   "cell_type": "code",
   "execution_count": 90,
   "id": "91720f93",
   "metadata": {},
   "outputs": [],
   "source": [
    "df = df.drop(columns=['how_resolved', 'others_involved',  'reason_complaint_filed', 'keywords', 'complaint_filed_against'])\n"
   ]
  },
  {
   "cell_type": "code",
   "execution_count": 91,
   "id": "bd445013",
   "metadata": {},
   "outputs": [
    {
     "name": "stdout",
     "output_type": "stream",
     "text": [
      "Number of rows: 3939133\n",
      "Number of columns: 18\n"
     ]
    }
   ],
   "source": [
    "print(f'Number of rows: {df.shape[0]}')\n",
    "print(f'Number of columns: {df.shape[1]}')"
   ]
  },
  {
   "cell_type": "code",
   "execution_count": 92,
   "id": "a95edb85",
   "metadata": {},
   "outputs": [
    {
     "name": "stdout",
     "output_type": "stream",
     "text": [
      "Index(['unnamed__0', 'complaint_number', 'complaint_filed_by',\n",
      "       'confirmed_complaint', 'received_date', 'closed_date', 'complaint_type',\n",
      "       'coverage_type', 'coverage_level', 'respondent_id', 'respondent_role',\n",
      "       'respondent_type', 'complainant_type',\n",
      "       'complaint_filed_against_explode', 'how_resolved_list',\n",
      "       'others_involved_list', 'reason_complaint_filed_list',\n",
      "       'keywords_list_list'],\n",
      "      dtype='object')\n"
     ]
    }
   ],
   "source": [
    "print(df.columns)"
   ]
  },
  {
   "cell_type": "code",
   "execution_count": 93,
   "id": "efe1ff36",
   "metadata": {},
   "outputs": [
    {
     "data": {
      "text/plain": [
       "0    43\n",
       "1    41\n",
       "2    49\n",
       "3    32\n",
       "4    34\n",
       "Name: date_difference, dtype: int64"
      ]
     },
     "execution_count": 93,
     "metadata": {},
     "output_type": "execute_result"
    }
   ],
   "source": [
    "df['received_date'] = df['received_date'].str.replace('*', '/', regex=False)\n",
    "df['closed_date'] = df['closed_date'].str.replace('*', '/', regex=False)\n",
    "df['received_date'] = df['received_date'].str.replace('?', '/', regex=False)\n",
    "df['closed_date'] = df['closed_date'].str.replace('?', '/', regex=False)\n",
    "df['received_date'] = df['received_date'].str.replace('-', '/', regex=False)\n",
    "df['closed_date'] = df['closed_date'].str.replace('-', '/', regex=False)\n",
    "\n",
    "df['received_date'] = pd.to_datetime(df['received_date'], format='%m/%d/%Y')\n",
    "df['closed_date'] = pd.to_datetime(df['closed_date'], format='%m/%d/%Y')\n",
    "df['date_difference'] = (df['closed_date'] - df['received_date']).dt.days\n",
    "df['date_difference'].head()\n"
   ]
  },
  {
   "cell_type": "code",
   "execution_count": 94,
   "id": "67bbfeaf",
   "metadata": {},
   "outputs": [
    {
     "data": {
      "text/plain": [
       "unnamed__0                                  int64\n",
       "complaint_number                            int64\n",
       "complaint_filed_by                         object\n",
       "confirmed_complaint                        object\n",
       "received_date                      datetime64[ns]\n",
       "closed_date                        datetime64[ns]\n",
       "complaint_type                             object\n",
       "coverage_type                              object\n",
       "coverage_level                             object\n",
       "respondent_id                               int64\n",
       "respondent_role                            object\n",
       "respondent_type                            object\n",
       "complainant_type                           object\n",
       "complaint_filed_against_explode           float64\n",
       "how_resolved_list                          object\n",
       "others_involved_list                       object\n",
       "reason_complaint_filed_list                object\n",
       "keywords_list_list                         object\n",
       "date_difference                             int64\n",
       "dtype: object"
      ]
     },
     "execution_count": 94,
     "metadata": {},
     "output_type": "execute_result"
    }
   ],
   "source": [
    "df.dtypes"
   ]
  },
  {
   "cell_type": "code",
   "execution_count": 95,
   "id": "4c58a924",
   "metadata": {},
   "outputs": [],
   "source": [
    "df.to_csv(\"cleaned_data_insurance_data.csv\")\n"
   ]
  }
 ],
 "metadata": {
  "kernelspec": {
   "display_name": "Python 3 (ipykernel)",
   "language": "python",
   "name": "python3"
  },
  "language_info": {
   "codemirror_mode": {
    "name": "ipython",
    "version": 3
   },
   "file_extension": ".py",
   "mimetype": "text/x-python",
   "name": "python",
   "nbconvert_exporter": "python",
   "pygments_lexer": "ipython3",
   "version": "3.11.4"
  }
 },
 "nbformat": 4,
 "nbformat_minor": 5
}
