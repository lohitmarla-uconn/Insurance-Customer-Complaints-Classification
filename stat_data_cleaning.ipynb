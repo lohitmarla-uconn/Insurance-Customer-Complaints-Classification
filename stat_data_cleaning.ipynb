{
 "cells": [
  {
   "cell_type": "code",
   "execution_count": 55,
   "id": "71684f87",
   "metadata": {},
   "outputs": [],
   "source": [
    "import pandas as pd\n",
    "from datetime import datetime"
   ]
  },
  {
   "cell_type": "code",
   "execution_count": 56,
   "id": "5c3a52df",
   "metadata": {},
   "outputs": [
    {
     "name": "stdout",
     "output_type": "stream",
     "text": [
      "Number of rows: 247007\n",
      "Number of columns: 18\n"
     ]
    }
   ],
   "source": [
    "df = pd.read_csv('Insurance_All_Complaints_Messy_Final.csv')\n",
    "print(f'Number of rows: {df.shape[0]}')\n",
    "print(f'Number of columns: {df.shape[1]}')"
   ]
  },
  {
   "cell_type": "code",
   "execution_count": 57,
   "id": "38307c7b",
   "metadata": {},
   "outputs": [
    {
     "name": "stdout",
     "output_type": "stream",
     "text": [
      "Index(['unnamed__0', 'complaint_number', 'complaint_filed_against',\n",
      "       'complaint_filed_by', 'reason_complaint_filed', 'confirmed_complaint',\n",
      "       'how_resolved', 'received_date', 'closed_date', 'complaint_type',\n",
      "       'coverage_type', 'coverage_level', 'others_involved', 'respondent_id',\n",
      "       'respondent_role', 'respondent_type', 'complainant_type', 'keywords'],\n",
      "      dtype='object')\n"
     ]
    },
    {
     "name": "stderr",
     "output_type": "stream",
     "text": [
      "/var/folders/cm/2mf41lhd765fw4n76x4lfdrc0000gn/T/ipykernel_39222/1484730310.py:3: FutureWarning: The default value of regex will change from True to False in a future version.\n",
      "  df.columns = df.columns.str.strip().str.lower().str.replace(' ', '_').str.replace(r'[^\\w\\s]', '_')\n"
     ]
    }
   ],
   "source": [
    "#Cleaning column names \n",
    "\n",
    "df.columns = df.columns.str.strip().str.lower().str.replace(' ', '_').str.replace(r'[^\\w\\s]', '_')\n",
    "print(df.columns)\n"
   ]
  },
  {
   "cell_type": "code",
   "execution_count": 58,
   "id": "5b9846e1",
   "metadata": {},
   "outputs": [],
   "source": [
    "df['complaint_filed_against_explode'] = df['complaint_filed_against'].str.replace('&', 'and', regex=False)\n",
    "df['complaint_filed_against'] = df['complaint_filed_against_explode'].str.split(',')"
   ]
  },
  {
   "cell_type": "code",
   "execution_count": 59,
   "id": "3e1b52e5",
   "metadata": {},
   "outputs": [],
   "source": [
    "df = df.explode('complaint_filed_against')"
   ]
  },
  {
   "cell_type": "code",
   "execution_count": 60,
   "id": "f0945d4a",
   "metadata": {},
   "outputs": [
    {
     "name": "stdout",
     "output_type": "stream",
     "text": [
      "Number of rows: 4909709\n",
      "Number of columns: 19\n"
     ]
    }
   ],
   "source": [
    "\n",
    "df['how_resolved'] = df['how_resolved'].str.split(';')\n",
    "df = df.explode('how_resolved')\n",
    "df['others_involved'] = df['others_involved'].str.split(';')\n",
    "df = df.explode('others_involved')\n",
    "df['reason_complaint_filed'] = df['reason_complaint_filed'].str.split(';')\n",
    "df = df.explode('reason_complaint_filed')\n",
    "df['keywords'] = df['keywords'].str.split(';')\n",
    "df = df.explode('keywords')\n",
    "\n",
    "print(f'Number of rows: {df.shape[0]}')\n",
    "print(f'Number of columns: {df.shape[1]}')\n",
    "\n",
    "#Number of rows: 3940903\n",
    "#Number of columns: 21"
   ]
  },
  {
   "cell_type": "code",
   "execution_count": 61,
   "id": "bb549fd3",
   "metadata": {},
   "outputs": [
    {
     "name": "stdout",
     "output_type": "stream",
     "text": [
      "[nan '2012 NORTH TEXAS TORNADOES' \"ADJUSTER'S HANDLING\" 'CLAIM EVALUATION'\n",
      " 'DAMAGE DISPUTE' 'HAIL' 'SUPPLEMENTARY PAYMENT' 'CREDIT REPORT'\n",
      " 'FOUNDATION' 'WATER DAMAGE' 'DIMINISHED VALUE' 'BREED OF DOG'\n",
      " 'COMPARATIVE NEGLIGENCE' 'TOTAL LOSS' 'LOSS OF USE' 'EMERGENCY CARE'\n",
      " 'ROOF' 'ACV' 'BUNDLING' 'APPRAISAL' 'BURDEN OF PROOF' 'COVERAGE DISPUTE'\n",
      " 'POLICY EXCLUSION' 'REPLACEMENT VEHICLE' 'DEPRECIATION' 'PRESCRIPTION'\n",
      " 'RESCISSION' 'ADVERTISING' \"AGENT'S FEE\" 'UNDERWRITING CRITERIA'\n",
      " 'REPAIR CHOICE' 'EXAM UNDER OATH' 'CHIROPRACTIC' 'SENIOR CITIZEN'\n",
      " 'AUTISM SPECTRUM DISORDER' 'DEDUCTIBLE' 'NAMED DRIVER POLICY'\n",
      " 'UNCOOPERATIVE INSURED' 'BETTERMENT' 'MEDICAL SAVINGS ACCOUNT'\n",
      " 'AFTERMARKET PARTS' 'OVERHEAD AND PROFIT' 'FEDERAL HEALTH CARE REFORM'\n",
      " 'MULTIPLE INSUREDS' 'MOLD' 'DRIVER NOT COVERED' 'MEDICARE PART D'\n",
      " 'ALZHEIMER' 'EXPERIMENTAL' 'CANCER' 'SUBROGATION' 'ACQUIRED BRAIN INJURY'\n",
      " 'BILL OF RIGHTS - HO' 'SLAB' 'PHARMACY' 'MATERNITY' \"ENGINEER'S REPORT\"\n",
      " 'GRANDFATHERED HEALTH PLAN' 'WILDFIRES 2011' 'VIATICAL SETTLEMENT'\n",
      " 'TAXES' 'CHEMICAL DEPENDENCY' 'COLLEGE FUNDING' 'OPEN RECORDS REQUEST'\n",
      " 'BREAST RECONSTRUCTION' 'CHEMOTHERAPY' 'BILL OF RIGHTS - AUTO'\n",
      " 'REDLINING' 'DWC PBO HIGH' 'AIDS' '2015 SEVERE WEATHER' 'BONE MARROW'\n",
      " 'OBESITY' 'OUT-OF-NTWK PRVDR MEDIATION RQ' 'BREAST IMPLANTS'\n",
      " 'EARNEST MONEY' 'ALCOHOLISM' 'West Explosion 2013' 'CELL PHONE INSURANCE'\n",
      " 'EXTRATERRITORIAL' 'CREDIT CARD' 'NON-GRANDFATHERED HEALTH PLAN'\n",
      " 'REVERSE MORTGAGE' 'DWC PBO AVERAGE' 'TITLE EARNEST MONEY' 'TITLE AGENT'\n",
      " 'PHARMACY BENEFIT MANAGEMENT' 'EASEMENT' 'TITLE CLAIMS'\n",
      " 'TITLE CLOSING OR ESCROW FEES' 'TITLE LOST OR MISSING POLICY'\n",
      " 'TITLE FAILURE TO RECORD DOCS' 'TITLE REAL ESTATE COMMISSIONS'\n",
      " 'TITLE LIENS' 'TITLE PROPERTY TAXES' 'TITLE BOUNDARY DISPUTE' 'LIEN'\n",
      " 'TRUSTS AND TRUSTEES' 'DEED' 'SURVEYS' 'ENCROACHMENT' 'FORECLOSURE'\n",
      " 'SILENT PPO' 'DILIGENT EFFORT' 'HEIRS,  WILLS, AND ESTATES'\n",
      " 'ACCELERATED DEATH BENEFIT' 'AIR AMBULANCE' 'GROUND AMBULANCE'\n",
      " '2015 WINTER STORMS' 'Mental Illness' 'Network Adequacy'\n",
      " 'REAL ESTATE COMMISSIONS' 'HOMESTEAD' 'GR-Health Inquiry'\n",
      " 'PRESCRIPTION DISCOUNT CARD' 'MED PROVIDER/THIRDPARTY BILLER'\n",
      " '2017 NE Texas Tornado' 'HOLD HARMLESS' '2017 Hurricane Harvey'\n",
      " 'Dam Release' 'DWC PBO POOR' 'CLAWBACK' 'GR-Life Inquiry'\n",
      " 'GR-Agent License Inquiry' 'HEALTH CARE SHARING MINISTRIES' 'OPIOIDS'\n",
      " '2018 RGV Severe Weather' 'TELEMEDICINE' 'BUSINESS USE EXCLUSION'\n",
      " 'SB 189 Violation' 'GR-Home Owner Inquiry' '2019 Tropical Storm Imelda'\n",
      " '2019 Dallas Tornado' 'TRIP CANCELLATION' 'GR-Miscellaneous'\n",
      " 'BUSINESS INTERRUPTION' 'CORONAVIRUS' 'IDR-Consumer Balance Bill'\n",
      " 'LAB SERVICES' 'COVID19 TESTING' 'EVENT CANCELLATION' 'IDR-Emergency'\n",
      " 'IDR-Arbitration' '2020 Hurricane Hanna' '2020 Hurricane Laura'\n",
      " 'IDR-Mediation' 'PLUMBING' '2021 February Ice Storm' 'FOOD SPOILAGE'\n",
      " 'POWER FAILURE' 'DISCOUNT HEALTH CARE PROGRAM' 'LIMITED COVERAGE'\n",
      " '2021 Hurricane Nicholas' 'SUPPLY SHORTAGE' 'GR-Automotive Inquiry'\n",
      " '2022 March Severe Weather' 'PBM STEERING'\n",
      " 'GOLD CARDING-DENIED/RESCINDED' 'GOLD CARDING-NOT GRANTED' 'LOSS CONTROL']\n"
     ]
    }
   ],
   "source": [
    "\n",
    "df['keywords'] = df['keywords'].str.strip()\n",
    "print(df['keywords'].unique())\n"
   ]
  },
  {
   "cell_type": "code",
   "execution_count": 62,
   "id": "158614dd",
   "metadata": {},
   "outputs": [],
   "source": [
    "df['coverage_type'] = df['coverage_type'].str.replace('&', 'and', regex=False)\n",
    "df['coverage_type'] = df['coverage_type'].str.replace('[^\\w\\s]', '', regex=True)\n",
    "df['complaint_type'] = df['complaint_type'].str.replace('[^\\w\\s]', '', regex=True)\n",
    "df['coverage_level'] = df['coverage_level'].str.replace('[^\\w\\s]', '', regex=True)"
   ]
  },
  {
   "cell_type": "code",
   "execution_count": 63,
   "id": "ac56754a",
   "metadata": {},
   "outputs": [
    {
     "data": {
      "text/plain": [
       "array(['Life and Annuity', 'Accident and Health', 'Automobile',\n",
       "       'Homeowners', 'Miscellaneous', 'Fire Allied Lines and CMP',\n",
       "       'Liability'], dtype=object)"
      ]
     },
     "execution_count": 63,
     "metadata": {},
     "output_type": "execute_result"
    }
   ],
   "source": [
    "df['coverage_type'].unique()"
   ]
  },
  {
   "cell_type": "code",
   "execution_count": 64,
   "id": "bd445013",
   "metadata": {},
   "outputs": [
    {
     "name": "stdout",
     "output_type": "stream",
     "text": [
      "Number of rows: 4909709\n",
      "Number of columns: 19\n"
     ]
    }
   ],
   "source": [
    "print(f'Number of rows: {df.shape[0]}')\n",
    "print(f'Number of columns: {df.shape[1]}')"
   ]
  },
  {
   "cell_type": "code",
   "execution_count": 65,
   "id": "a95edb85",
   "metadata": {},
   "outputs": [
    {
     "name": "stdout",
     "output_type": "stream",
     "text": [
      "Index(['unnamed__0', 'complaint_number', 'complaint_filed_against',\n",
      "       'complaint_filed_by', 'reason_complaint_filed', 'confirmed_complaint',\n",
      "       'how_resolved', 'received_date', 'closed_date', 'complaint_type',\n",
      "       'coverage_type', 'coverage_level', 'others_involved', 'respondent_id',\n",
      "       'respondent_role', 'respondent_type', 'complainant_type', 'keywords',\n",
      "       'complaint_filed_against_explode'],\n",
      "      dtype='object')\n"
     ]
    }
   ],
   "source": [
    "print(df.columns)"
   ]
  },
  {
   "cell_type": "code",
   "execution_count": 66,
   "id": "efe1ff36",
   "metadata": {},
   "outputs": [
    {
     "data": {
      "text/plain": [
       "0    43\n",
       "1    41\n",
       "2    49\n",
       "2    49\n",
       "3    32\n",
       "Name: date_difference, dtype: int64"
      ]
     },
     "execution_count": 66,
     "metadata": {},
     "output_type": "execute_result"
    }
   ],
   "source": [
    "df['received_date'] = df['received_date'].str.replace('*', '/', regex=False)\n",
    "df['closed_date'] = df['closed_date'].str.replace('*', '/', regex=False)\n",
    "df['received_date'] = df['received_date'].str.replace('?', '/', regex=False)\n",
    "df['closed_date'] = df['closed_date'].str.replace('?', '/', regex=False)\n",
    "df['received_date'] = df['received_date'].str.replace('-', '/', regex=False)\n",
    "df['closed_date'] = df['closed_date'].str.replace('-', '/', regex=False)\n",
    "\n",
    "df['received_date'] = pd.to_datetime(df['received_date'], format='%m/%d/%Y')\n",
    "df['closed_date'] = pd.to_datetime(df['closed_date'], format='%m/%d/%Y')\n",
    "df['date_difference'] = (df['closed_date'] - df['received_date']).dt.days\n",
    "df['date_difference'].head()\n"
   ]
  },
  {
   "cell_type": "code",
   "execution_count": 67,
   "id": "67bbfeaf",
   "metadata": {},
   "outputs": [
    {
     "data": {
      "text/plain": [
       "unnamed__0                                  int64\n",
       "complaint_number                            int64\n",
       "complaint_filed_against                    object\n",
       "complaint_filed_by                         object\n",
       "reason_complaint_filed                     object\n",
       "confirmed_complaint                        object\n",
       "how_resolved                               object\n",
       "received_date                      datetime64[ns]\n",
       "closed_date                        datetime64[ns]\n",
       "complaint_type                             object\n",
       "coverage_type                              object\n",
       "coverage_level                             object\n",
       "others_involved                            object\n",
       "respondent_id                               int64\n",
       "respondent_role                            object\n",
       "respondent_type                            object\n",
       "complainant_type                           object\n",
       "keywords                                   object\n",
       "complaint_filed_against_explode            object\n",
       "date_difference                             int64\n",
       "dtype: object"
      ]
     },
     "execution_count": 67,
     "metadata": {},
     "output_type": "execute_result"
    }
   ],
   "source": [
    "df.dtypes\n",
    "       "
   ]
  },
  {
   "cell_type": "code",
   "execution_count": 68,
   "id": "4c58a924",
   "metadata": {},
   "outputs": [],
   "source": [
    "\n",
    "\n"
   ]
  },
  {
   "cell_type": "code",
   "execution_count": 71,
   "id": "eda5f731",
   "metadata": {},
   "outputs": [
    {
     "name": "stdout",
     "output_type": "stream",
     "text": [
      "Number of rows: 50238\n",
      "Number of columns: 20\n"
     ]
    }
   ],
   "source": [
    "values = [ \"Teacher Retirement System\", \"Workers Compensation Network\", \"Independent Review Org\", \"Portal\"]\n",
    "df = df[df['complaint_type'].str.strip().isin(values)]\n",
    "\n",
    "print(f'Number of rows: {df.shape[0]}')\n",
    "print(f'Number of columns: {df.shape[1]}')\n"
   ]
  },
  {
   "cell_type": "code",
   "execution_count": 72,
   "id": "7592abe8",
   "metadata": {},
   "outputs": [
    {
     "data": {
      "image/png": "[encoded data removed]",
      "text/plain": [
       "<Figure size 1000x600 with 1 Axes>"
      ]
     },
     "metadata": {},
     "output_type": "display_data"
    }
   ],
   "source": [
    "import matplotlib.pyplot as plt\n",
    "import seaborn as sns\n",
    "\n",
    "# Count the occurrence of each complaint type\n",
    "complaint_counts = df['complaint_type'].value_counts()\n",
    "\n",
    "# Create a bar plot\n",
    "plt.figure(figsize=(10,6))\n",
    "bar_plot = sns.barplot(x=complaint_counts.index, y=complaint_counts.values, alpha=0.8)\n",
    "\n",
    "# Add counts on each bar\n",
    "for bar in bar_plot.patches:\n",
    "    bar_plot.annotate(format(bar.get_height(), '.0f'), \n",
    "                   (bar.get_x() + bar.get_width() / 2,  \n",
    "                    bar.get_height()), ha='center', va='center',\n",
    "                   size=10, xytext=(0, 8),\n",
    "                   textcoords='offset points')\n",
    "\n",
    "plt.title('Distribution of Complaint Types')\n",
    "plt.ylabel('Number of Occurrences', fontsize=12)\n",
    "plt.xlabel('Complaint Type', fontsize=12)\n",
    "\n",
    "# Rotate x-labels for better visibility\n",
    "plt.xticks(rotation=90)\n",
    "\n",
    "plt.show()"
   ]
  },
  {
   "cell_type": "code",
   "execution_count": 73,
   "id": "84f706ea",
   "metadata": {},
   "outputs": [],
   "source": [
    "df.to_csv(\"Insurance_complaints__All_data.csv\")"
   ]
  }
 ],
 "metadata": {
  "kernelspec": {
   "display_name": "Python 3 (ipykernel)",
   "language": "python",
   "name": "python3"
  },
  "language_info": {
   "codemirror_mode": {
    "name": "ipython",
    "version": 3
   },
   "file_extension": ".py",
   "mimetype": "text/x-python",
   "name": "python",
   "nbconvert_exporter": "python",
   "pygments_lexer": "ipython3",
   "version": "3.11.4"
  }
 },
 "nbformat": 4,
 "nbformat_minor": 5
}
