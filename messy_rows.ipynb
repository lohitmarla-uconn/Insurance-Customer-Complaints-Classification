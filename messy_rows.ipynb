{
 "cells": [
  {
   "cell_type": "code",
   "execution_count": 25,
   "metadata": {},
   "outputs": [
    {
     "name": "stdout",
     "output_type": "stream",
     "text": [
      "   Complaint number                            Complaint filed against  \\\n",
      "0                 1                METROPOLITAN LIFE INSURANCE COMPANY   \n",
      "1                 2                       AETNA LIFE INSURANCE COMPANY   \n",
      "2                 3  BLUE CROSS AND BLUE SHIELD OF TEXAS, A DIVISIO...   \n",
      "3                 4  BLUE CROSS AND BLUE SHIELD OF TEXAS, A DIVISIO...   \n",
      "4                 5            CHARTER OAK FIRE INSURANCE COMPANY, THE   \n",
      "\n",
      "  Complaint filed by       Reason complaint filed Confirmed complaint  \\\n",
      "0           Relative             Customer Service                  No   \n",
      "1           Provider     Delays (Claims Handling)                  No   \n",
      "2           Provider              Denial Of Claim                  No   \n",
      "3           Provider              Denial Of Claim                  No   \n",
      "4            Insured  Unsatisfactory Settle/Offer                  No   \n",
      "\n",
      "                                      How resolved Received date Closed date  \\\n",
      "0                                            Other    06/12/2012  07/25/2012   \n",
      "1                            Information Furnished    06/21/2012  08/01/2012   \n",
      "2                                            Other    06/11/2012  07/30/2012   \n",
      "3                                            Other    06/28/2012  07/30/2012   \n",
      "4  Question of Fact; Contract Language/Legal Issue    06/13/2012  07/17/2012   \n",
      "\n",
      "              Complaint type        Coverage type           Coverage level  \\\n",
      "0  Life, Accident and Health       Life & Annuity          Individual Life   \n",
      "1  Life, Accident and Health  Accident and Health                Group A&H   \n",
      "2  Life, Accident and Health  Accident and Health                Group A&H   \n",
      "3  Life, Accident and Health  Accident and Health                Group A&H   \n",
      "4      Property and Casualty           Automobile  Individual Private Pass   \n",
      "\n",
      "  Others involved  Respondent ID           Respondent Role Respondent type  \\\n",
      "0             NaN          13191  Ins Co - Licensed/Active    Organization   \n",
      "1         Insured            245  Ins Co - Licensed/Active    Organization   \n",
      "2             NaN          10047  Ins Co - Licensed/Active    Organization   \n",
      "3             NaN          10047  Ins Co - Licensed/Active    Organization   \n",
      "4             NaN           2918  Ins Co - Licensed/Active    Organization   \n",
      "\n",
      "  Complainant type                                           Keywords  \n",
      "0             INDV                                                NaN  \n",
      "1              ORG                                                NaN  \n",
      "2              ORG                                                NaN  \n",
      "3              ORG                                                NaN  \n",
      "4             INDV  2012 NORTH TEXAS TORNADOES; ADJUSTER'S HANDLIN...  \n"
     ]
    }
   ],
   "source": [
    "import pandas as pd\n",
    "\n",
    "# Read the CSV file into a DataFrame\n",
    "df = pd.read_csv(\"Insurance_complaints__All_data.csv\")\n",
    "\n",
    "# Display the first few rows of the DataFrame to verify the data\n",
    "print(df.head())\n"
   ]
  },
  {
   "cell_type": "code",
   "execution_count": 26,
   "metadata": {},
   "outputs": [],
   "source": [
    "import random\n",
    "\n",
    "# Select random rows to change date format\n",
    "random_indices = random.sample(range(len(df)), k=15000)  # Change 300 random rows\n",
    "df_subset = df.iloc[random_indices]\n",
    "\n",
    "# Convert date columns to the desired format for selected rows\n",
    "for idx in random_indices:\n",
    "    try:\n",
    "        df.at[idx, 'Received date'] = pd.to_datetime(df.at[idx, 'Received date'], format='%m/%d/%Y').strftime('%m*%d*%Y')\n",
    "        df.at[idx, 'Closed date'] = pd.to_datetime(df.at[idx, 'Closed date'], format='%m/%d/%Y').strftime('%m*%d*%Y')\n",
    "    except ValueError:\n",
    "        pass  # Skip rows where date format conversion fails\n",
    "\n",
    "random_indices = random.sample(range(len(df)), k=15000)  # Change 300 random rows\n",
    "df_subset = df.iloc[random_indices]\n",
    "\n",
    "# Convert date columns to the desired format for selected rows\n",
    "for idx in random_indices:\n",
    "    try:\n",
    "        df.at[idx, 'Received date'] = pd.to_datetime(df.at[idx, 'Received date'], format='%m/%d/%Y').strftime('%m?%d?%Y')\n",
    "        df.at[idx, 'Closed date'] = pd.to_datetime(df.at[idx, 'Closed date'], format='%m/%d/%Y').strftime('%m?%d?%Y')\n",
    "    except ValueError:\n",
    "        pass  # Skip rows where date format conversion fails\n",
    "\n"
   ]
  },
  {
   "cell_type": "code",
   "execution_count": 28,
   "metadata": {},
   "outputs": [
    {
     "name": "stdout",
     "output_type": "stream",
     "text": [
      "15000\n",
      "14075\n"
     ]
    }
   ],
   "source": [
    "count_contains_star = df[\"Closed date\"].str.contains(\"\\*\").sum()\n",
    "count_contains_question = df[\"Closed date\"].str.contains(\"\\?\").sum()\n",
    "print(count_contains_star)\n",
    "print(count_contains_question)"
   ]
  },
  {
   "cell_type": "code",
   "execution_count": 6,
   "metadata": {},
   "outputs": [],
   "source": [
    "df.to_csv(\"Insurance_All_Complaints_Messy_Final.csv\")"
   ]
  }
 ],
 "metadata": {
  "kernelspec": {
   "display_name": "base",
   "language": "python",
   "name": "python3"
  },
  "language_info": {
   "codemirror_mode": {
    "name": "ipython",
    "version": 3
   },
   "file_extension": ".py",
   "mimetype": "text/x-python",
   "name": "python",
   "nbconvert_exporter": "python",
   "pygments_lexer": "ipython3",
   "version": "3.11.4"
  }
 },
 "nbformat": 4,
 "nbformat_minor": 2
}
